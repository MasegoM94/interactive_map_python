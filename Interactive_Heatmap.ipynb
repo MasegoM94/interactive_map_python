{
 "cells": [
  {
   "cell_type": "code",
   "execution_count": null,
   "metadata": {},
   "outputs": [],
   "source": [
    "#!pip install folium"
   ]
  },
  {
   "cell_type": "code",
   "execution_count": null,
   "metadata": {},
   "outputs": [],
   "source": [
    "#importing of packages\n",
    "import pandas as pd\n",
    "import folium\n",
    "from folium.plugins import HeatMap\n",
    "from random import randint, uniform"
   ]
  },
  {
   "cell_type": "code",
   "execution_count": null,
   "metadata": {},
   "outputs": [],
   "source": [
    "import pandas as pd\n",
    "import re\n",
    "\n",
    "# 1. Clean Postal Codes\n",
    "def clean_postal_codes(df, column_name):\n",
    "    \"\"\"Clean and validate postal codes.\"\"\"\n",
    "    def clean_postal(postal):\n",
    "        if pd.isna(postal):\n",
    "            return None\n",
    "        # Remove leading/trailing spaces, convert to uppercase, and remove invalid chars\n",
    "        postal = re.sub(r\"[^A-Z0-9]\", \"\", postal.upper().strip())\n",
    "        # Add space in the correct position if format matches\n",
    "        if re.match(r\"^[A-Z]\\d[A-Z]\\d[A-Z]\\d$\", postal):\n",
    "            return postal[:3] + \" \" + postal[3:]\n",
    "        return None  # Invalid postal code\n",
    "\n",
    "    df[column_name] = df[column_name].apply(clean_postal)\n",
    "    return df\n",
    "\n",
    "# 2. Map Postal Codes to Latitude and Longitude\n",
    "def map_postal_codes(df, postal_code_col, postal_mapping_path):\n",
    "    \"\"\"Map postal codes to their latitude and longitude using a reference file.\"\"\"\n",
    "    # Load the postal code mapping file\n",
    "    postal_mapping = pd.read_csv(postal_mapping_path, on_bad_lines='skip')\n",
    "\n",
    "    \n",
    "    # Merge with survey data\n",
    "    df = df.merge(postal_mapping, how=\"left\", left_on=postal_code_col, right_on=\"POSTAL_CODE\")\n",
    "    \n",
    "    # Group by postal codes and coordinates, then count\n",
    "    grouped = df.groupby([postal_code_col, \"LATITUDE\", \"LONGITUDE\"]).size().reset_index(name=\"count\")\n",
    "    return grouped\n",
    "\n",
    "# Main Script\n",
    "if __name__ == \"__main__\":\n",
    "    # File paths\n",
    "    fake_data_output = \"fake_postal_codes.csv\"\n",
    "    postal_mapping_file = \"CanadianPostalCodes202403.csv\"  # Latitude/Longitude data\n",
    "    cleaned_output_file = \"cleaned_postal_data.csv\"\n",
    "\n",
    "\n",
    "    # Load Fake Data and Clean\n",
    "    fake_data = pd.read_csv(fake_data_output)\n",
    "    fake_data_cleaned = clean_postal_codes(fake_data, 'postal_code')\n",
    "\n",
    "    # Map to Latitude/Longitude\n",
    "    postal_summary = map_postal_codes(fake_data_cleaned, 'postal_code', postal_mapping_file)\n"
   ]
  },
  {
   "cell_type": "code",
   "execution_count": null,
   "metadata": {},
   "outputs": [
    {
     "data": {
      "text/html": [
       "<div>\n",
       "<style scoped>\n",
       "    .dataframe tbody tr th:only-of-type {\n",
       "        vertical-align: middle;\n",
       "    }\n",
       "\n",
       "    .dataframe tbody tr th {\n",
       "        vertical-align: top;\n",
       "    }\n",
       "\n",
       "    .dataframe thead th {\n",
       "        text-align: right;\n",
       "    }\n",
       "</style>\n",
       "<table border=\"1\" class=\"dataframe\">\n",
       "  <thead>\n",
       "    <tr style=\"text-align: right;\">\n",
       "      <th></th>\n",
       "      <th>postal_code</th>\n",
       "      <th>LATITUDE</th>\n",
       "      <th>LONGITUDE</th>\n",
       "      <th>count</th>\n",
       "    </tr>\n",
       "  </thead>\n",
       "  <tbody>\n",
       "    <tr>\n",
       "      <th>0</th>\n",
       "      <td>L6P 2B9</td>\n",
       "      <td>43.771787</td>\n",
       "      <td>-79.707262</td>\n",
       "      <td>1</td>\n",
       "    </tr>\n",
       "    <tr>\n",
       "      <th>1</th>\n",
       "      <td>L6P 2G7</td>\n",
       "      <td>43.777513</td>\n",
       "      <td>-79.682147</td>\n",
       "      <td>1</td>\n",
       "    </tr>\n",
       "    <tr>\n",
       "      <th>2</th>\n",
       "      <td>L6P 2J6</td>\n",
       "      <td>43.768210</td>\n",
       "      <td>-79.714220</td>\n",
       "      <td>1</td>\n",
       "    </tr>\n",
       "    <tr>\n",
       "      <th>3</th>\n",
       "      <td>L6P 2M8</td>\n",
       "      <td>43.632735</td>\n",
       "      <td>-79.831816</td>\n",
       "      <td>1</td>\n",
       "    </tr>\n",
       "    <tr>\n",
       "      <th>4</th>\n",
       "      <td>L6P 2T6</td>\n",
       "      <td>43.800868</td>\n",
       "      <td>-79.704911</td>\n",
       "      <td>1</td>\n",
       "    </tr>\n",
       "    <tr>\n",
       "      <th>...</th>\n",
       "      <td>...</td>\n",
       "      <td>...</td>\n",
       "      <td>...</td>\n",
       "      <td>...</td>\n",
       "    </tr>\n",
       "    <tr>\n",
       "      <th>81</th>\n",
       "      <td>L7A 4C7</td>\n",
       "      <td>43.702276</td>\n",
       "      <td>-79.822901</td>\n",
       "      <td>1</td>\n",
       "    </tr>\n",
       "    <tr>\n",
       "      <th>82</th>\n",
       "      <td>L7A 4H7</td>\n",
       "      <td>43.702276</td>\n",
       "      <td>-79.822901</td>\n",
       "      <td>1</td>\n",
       "    </tr>\n",
       "    <tr>\n",
       "      <th>83</th>\n",
       "      <td>L7A 4M4</td>\n",
       "      <td>43.691293</td>\n",
       "      <td>-79.838062</td>\n",
       "      <td>1</td>\n",
       "    </tr>\n",
       "    <tr>\n",
       "      <th>84</th>\n",
       "      <td>L7A 4V9</td>\n",
       "      <td>43.713282</td>\n",
       "      <td>-79.841336</td>\n",
       "      <td>1</td>\n",
       "    </tr>\n",
       "    <tr>\n",
       "      <th>85</th>\n",
       "      <td>L7A 4X1</td>\n",
       "      <td>43.697557</td>\n",
       "      <td>-79.850754</td>\n",
       "      <td>1</td>\n",
       "    </tr>\n",
       "  </tbody>\n",
       "</table>\n",
       "<p>86 rows × 4 columns</p>\n",
       "</div>"
      ],
      "text/plain": [
       "   postal_code   LATITUDE  LONGITUDE  count\n",
       "0      L6P 2B9  43.771787 -79.707262      1\n",
       "1      L6P 2G7  43.777513 -79.682147      1\n",
       "2      L6P 2J6  43.768210 -79.714220      1\n",
       "3      L6P 2M8  43.632735 -79.831816      1\n",
       "4      L6P 2T6  43.800868 -79.704911      1\n",
       "..         ...        ...        ...    ...\n",
       "81     L7A 4C7  43.702276 -79.822901      1\n",
       "82     L7A 4H7  43.702276 -79.822901      1\n",
       "83     L7A 4M4  43.691293 -79.838062      1\n",
       "84     L7A 4V9  43.713282 -79.841336      1\n",
       "85     L7A 4X1  43.697557 -79.850754      1\n",
       "\n",
       "[86 rows x 4 columns]"
      ]
     },
     "execution_count": 6,
     "metadata": {},
     "output_type": "execute_result"
    }
   ],
   "source": [
    "# Step 3: Create an interactive Folium map\n",
    "map_center = [43.7315, -79.7604]  # Centered on Brampton, Ontario\n",
    "brampton_map = folium.Map(location=map_center, zoom_start=11)"
   ]
  },
  {
   "cell_type": "code",
   "execution_count": null,
   "metadata": {},
   "outputs": [
    {
     "name": "stdout",
     "output_type": "stream",
     "text": [
      "Interactive map saved as brampton_survey_map.html\n"
     ]
    }
   ],
   "source": [
    "# Step 4: Add Circle Markers to the map\n",
    "for _, row in postal_summary.iterrows():\n",
    "    folium.CircleMarker(\n",
    "        location=[row['LATITUDE'], row['LONGITUDE']],\n",
    "        radius=row['count'] * 2,  # Marker size based on count\n",
    "        color='blue',\n",
    "        fill=True,\n",
    "        fill_opacity=0.5,\n",
    "        popup=f\"<b>Postal Code:</b> {row['postal_code']}<br><b>Count:</b> {row['count']}\"\n",
    "    ).add_to(brampton_map)\n"
   ]
  },
  {
   "cell_type": "code",
   "execution_count": null,
   "metadata": {},
   "outputs": [],
   "source": [
    "# Step 5: Save the map as an HTML file\n",
    "map_filename = \"brampton_survey_map.html\"\n",
    "brampton_map.save(map_filename)"
   ]
  },
  {
   "cell_type": "code",
   "execution_count": null,
   "metadata": {},
   "outputs": [],
   "source": [
    "\n",
    "# Step 6: Create the interactive map\n",
    "map_center = [43.7315, -79.7604]  # Centered on Brampton, Ontario\n",
    "brampton_map = folium.Map(location=map_center, zoom_start=11)"
   ]
  },
  {
   "cell_type": "code",
   "execution_count": null,
   "metadata": {},
   "outputs": [],
   "source": [
    "# Step 7: Add circle markers to the map\n",
    "for _, row in aggregated_data.iterrows():\n",
    "    folium.CircleMarker(\n",
    "        location=[row['latitude'], row['longitude']],\n",
    "        radius=row['count'] * 2,  # Marker size based on count\n",
    "        color='blue',\n",
    "        fill=True,\n",
    "        fill_opacity=0.5,\n",
    "        popup=f\"<b>Postal Code:</b> {row['postal_code']}<br><b>Count:</b> {row['count']}\"\n",
    "    ).add_to(brampton_map)"
   ]
  },
  {
   "cell_type": "code",
   "execution_count": null,
   "metadata": {},
   "outputs": [],
   "source": [
    "# Save the interactive map\n",
    "map_filename = \"brampton_map.html\"\n",
    "brampton_map.save(map_filename)\n",
    "\n",
    "print(f\"Interactive map saved as {map_filename}\")"
   ]
  }
 ],
 "metadata": {
  "kernelspec": {
   "display_name": "Python 3",
   "language": "python",
   "name": "python3"
  },
  "language_info": {
   "codemirror_mode": {
    "name": "ipython",
    "version": 3
   },
   "file_extension": ".py",
   "mimetype": "text/x-python",
   "name": "python",
   "nbconvert_exporter": "python",
   "pygments_lexer": "ipython3",
   "version": "3.8.10"
  }
 },
 "nbformat": 4,
 "nbformat_minor": 2
}
