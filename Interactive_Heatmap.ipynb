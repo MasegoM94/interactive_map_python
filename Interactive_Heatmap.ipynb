{
 "cells": [
  {
   "cell_type": "code",
   "execution_count": 20,
   "metadata": {},
   "outputs": [],
   "source": [
    "#!pip install folium"
   ]
  },
  {
   "cell_type": "code",
   "execution_count": 21,
   "metadata": {},
   "outputs": [],
   "source": [
    "#importing of packages\n",
    "import pandas as pd\n",
    "import folium\n",
    "from folium.plugins import HeatMap\n",
    "import re\n"
   ]
  },
  {
   "cell_type": "code",
   "execution_count": 22,
   "metadata": {},
   "outputs": [],
   "source": [
    "# 1. Clean Postal Codes\n",
    "def clean_postal_codes(df, column_name):\n",
    "    \"\"\"Clean and validate postal codes.\"\"\"\n",
    "    def clean_postal(postal):\n",
    "        if pd.isna(postal):\n",
    "            return None\n",
    "        # Remove leading/trailing spaces, convert to uppercase, and remove invalid chars\n",
    "        postal = re.sub(r\"[^A-Z0-9]\", \"\", postal.upper().strip())\n",
    "        # Add space in the correct position if format matches\n",
    "        if re.match(r\"^[A-Z]\\d[A-Z]\\d[A-Z]\\d$\", postal):\n",
    "            return postal[:3] + \" \" + postal[3:]\n",
    "        return None  # Invalid postal code\n",
    "\n",
    "    df[column_name] = df[column_name].apply(clean_postal)\n",
    "    return df\n",
    "\n",
    "# 2. Map Postal Codes to Latitude and Longitude\n",
    "def map_postal_codes(df, postal_code_col, postal_mapping_path):\n",
    "    \"\"\"Map postal codes to their latitude and longitude using a reference file.\"\"\"\n",
    "    # Load the postal code mapping file\n",
    "    postal_mapping = pd.read_csv(postal_mapping_path, on_bad_lines='skip')\n",
    "\n",
    "    \n",
    "    # Merge with survey data\n",
    "    df = df.merge(postal_mapping, how=\"left\", left_on=postal_code_col, right_on=\"POSTAL_CODE\")\n",
    "    \n",
    "    # Group by postal codes and coordinates, then count\n",
    "    grouped = df.groupby([postal_code_col, \"LATITUDE\", \"LONGITUDE\"]).size().reset_index(name=\"count\")\n",
    "    return grouped\n",
    "\n",
    "# Main Script\n",
    "if __name__ == \"__main__\":\n",
    "    # File paths\n",
    "    fake_data_output = \"fake_postal_codes.csv\"\n",
    "    postal_mapping_file = \"CanadianPostalCodes202403.csv\"  # Latitude/Longitude data\n",
    "    cleaned_output_file = \"cleaned_postal_data.csv\"\n",
    "\n",
    "\n",
    "    # Load Fake Data and Clean\n",
    "    fake_data = pd.read_csv(fake_data_output)\n",
    "    fake_data_cleaned = clean_postal_codes(fake_data, 'postal_code')\n",
    "\n",
    "    # Map to Latitude/Longitude\n",
    "    postal_summary = map_postal_codes(fake_data_cleaned, 'postal_code', postal_mapping_file)\n"
   ]
  },
  {
   "cell_type": "code",
   "execution_count": 23,
   "metadata": {},
   "outputs": [],
   "source": [
    "# Step 3: Create an interactive Folium map\n",
    "map_center = [43.7315, -79.7604]  # Centered on Brampton, Ontario\n",
    "brampton_map = folium.Map(location=map_center, zoom_start=11)"
   ]
  },
  {
   "cell_type": "code",
   "execution_count": 24,
   "metadata": {},
   "outputs": [],
   "source": [
    "# Step 4: Add Circle Markers to the map\n",
    "for _, row in postal_summary.iterrows():\n",
    "    folium.CircleMarker(\n",
    "        location=[row['LATITUDE'], row['LONGITUDE']],\n",
    "        radius=row['count'] * 2,  # Marker size based on count\n",
    "        color='blue',\n",
    "        fill=True,\n",
    "        fill_opacity=0.5,\n",
    "        popup=f\"<b>Postal Code:</b> {row['postal_code']}<br><b>Count:</b> {row['count']}\"\n",
    "    ).add_to(brampton_map)\n"
   ]
  }
 ],
 "metadata": {
  "kernelspec": {
   "display_name": "Python 3",
   "language": "python",
   "name": "python3"
  },
  "language_info": {
   "codemirror_mode": {
    "name": "ipython",
    "version": 3
   },
   "file_extension": ".py",
   "mimetype": "text/x-python",
   "name": "python",
   "nbconvert_exporter": "python",
   "pygments_lexer": "ipython3",
   "version": "3.8.10"
  }
 },
 "nbformat": 4,
 "nbformat_minor": 2
}
